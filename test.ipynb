{
 "cells": [
  {
   "cell_type": "code",
   "execution_count": 23,
   "metadata": {},
   "outputs": [],
   "source": [
    "import langchain\n",
    "from pinecone import Pinecone , ServerlessSpec\n",
    "from langchain.document_loaders import PyPDFDirectoryLoader\n",
    "from langchain.text_splitter import RecursiveCharacterTextSplitter\n",
    "from langchain.embeddings import HuggingFaceEmbeddings\n",
    "from langchain.vectorstores import Pinecone as langchainpinecode\n",
    "from langchain.llms import huggingface_pipeline\n",
    "import os"
   ]
  },
  {
   "cell_type": "code",
   "execution_count": 2,
   "metadata": {},
   "outputs": [],
   "source": [
    "def read_doc(directory):\n",
    "    file_loader = PyPDFDirectoryLoader(directory)\n",
    "    document=file_loader.load()\n",
    "    return document\n"
   ]
  },
  {
   "cell_type": "code",
   "execution_count": null,
   "metadata": {},
   "outputs": [
    {
     "data": {
      "text/plain": [
       "[Document(metadata={'source': 'documents\\\\Pavankumar_Patil_Resume.pdf', 'page': 0}, page_content='Bengaluru 560040\\n6360670648\\npatilpavan7263@gmail.com\\nhttps://github.com/patilpavan5656\\nhttps://www.linkedin.com/in/pavan-patil-30b579214/\\nPAVANKUMARPATIL\\nI seek challenging opportunities where I can fully utilize my skills to contribute to the success of the organization.CAREER OBJECTIVE\\nSOFTWARE ENGINEERING INTERN, 02/2023 - 07/2023\\nCodeCraft Technologies Pvt Ltd, Bengaluru\\nEXPERIENCE\\nImplemented new features into existing software systems using HTML, CSS, and JavaScript.•\\nUtilized version control systems like Git and GitHub to manage source code changes during development cycles.•\\nAnalyzed code and corrected errors to optimize output.•\\nCollaborated with other developers on coding projects in an Agile environment.•\\n1. WIFI Handoff using NS2 simulator\\n2. Implementation of Smart Home Automation System\\n3. HetNet Simulation in MATLAB\\n4.\\xa0Client and server communication using sockets programming of IPv4 and IPV6\\xa0\\nACADEMIC PROJECTS\\nSimulated seamless Wi-Fi handoff in NS2 to analyze network performance during mobile node transitions.•\\nImplemented a Smart Home Automation System integrating IoT devices, sensors, and microcontrollers for\\nautomated control of appliances.\\n•\\nSimulated Heterogeneous Networks (HetNet) in MATLAB to analyze network performance across different cell\\ntypes.\\n•\\nImplemented client-server communication using socket programming with both IPv4 and IPv6 protocols,\\nenabling efficient data exchange. Observed and analyzed network packets using Wireshark to ensure reliable\\ntransmission and troubleshoot communication issues.\\n•\\nSKILLS Object-Oriented Programming•\\nPython Programming•\\nC Programming•\\nCSS,HTML•\\nSQL•\\nGit•\\nGitHub•\\nDSA•\\nNetworking•\\nWireshark•\\nCisco Packet Tracer•\\nSDLC•\\nAgile Methodologies•\\nTinkercad•\\nCERTIFICATIONS Introduction to Industry 4.0 and Industrial Internet of Things, NPTEL Certification•\\nConsumer Psychology, NPTEL Certification•\\nBusiness English Cambridge Certification, provided by Cambridge Business•\\nHands on course on RDBMS and SQL conducted by ramkrishna mission ashrama•\\nResponsive Web Design provided by freeCodeCamp•\\nWORKSHOPS Overview of Web GIS Technology, Organized by ISRO•\\nPlantation Drive , Organized by Green Saviors Association•\\nStudent Leadership Program, Organized by IEEE Student Branch GIT•\\nNetwork Simulation and Performance Analysis: Hands-on workshop in network protocols, performance\\nevaluation, and simulation using NS2 and Wireshark organized by RVCE\\n•'),\n",
       " Document(metadata={'source': 'documents\\\\Pavankumar_Patil_Resume.pdf', 'page': 1}, page_content=\"RV College Of Engineering, Bengaluru, Expected in 09/2025\\nMaster of Technology: Computer Network Engineering\\nKLS GOGTE INSTITUTE OF TECHNOLOGY , Belagavi, 08/2023\\nBachelor of Engineering: Electronics And Communication Engineering\\nRavindranath Tagore Pu College, Belagavi, 04/2019\\nPre-University\\nKLE'S Smt. C.B.Ranamode English Medium School, Athani, 04/2017\\nHigh School\\nEDUCATION\\n8.20 CGPA(upto 1st Sem)•\\n8.20 CGPA•\\nPCMCs (87.50%)•\\n8.6 CGPA•\\nHOBBIES Music•\\nPhotography•\\nTravelling•\\nSports•\\nLANGUAGES Marathi:First Language\\nB2English:\\nUpper Intermediate (B2)\\nB2Hindi:\\nUpper Intermediate (B2)\\nB2Kannada:\\nUpper Intermediate (B2)\")]"
      ]
     },
     "execution_count": 3,
     "metadata": {},
     "output_type": "execute_result"
    }
   ],
   "source": [
    "\n",
    "doc=read_doc(\"documents/\")\n",
    "doc"
   ]
  },
  {
   "cell_type": "code",
   "execution_count": 6,
   "metadata": {},
   "outputs": [],
   "source": [
    "def chunk_data(docs, chunk_size = 512, chunk_overlap=50):\n",
    "    text_spliter = RecursiveCharacterTextSplitter(chunk_size = chunk_size, chunk_overlap = chunk_overlap)\n",
    "    doc = text_spliter.split_documents(docs)\n",
    "    return doc\n",
    "\n"
   ]
  },
  {
   "cell_type": "code",
   "execution_count": 7,
   "metadata": {},
   "outputs": [],
   "source": [
    "documents=chunk_data(docs=doc)"
   ]
  },
  {
   "cell_type": "code",
   "execution_count": 8,
   "metadata": {},
   "outputs": [
    {
     "data": {
      "text/plain": [
       "[Document(metadata={'source': 'documents\\\\Pavankumar_Patil_Resume.pdf', 'page': 0}, page_content='Bengaluru 560040\\n6360670648\\npatilpavan7263@gmail.com\\nhttps://github.com/patilpavan5656\\nhttps://www.linkedin.com/in/pavan-patil-30b579214/\\nPAVANKUMARPATIL\\nI seek challenging opportunities where I can fully utilize my skills to contribute to the success of the organization.CAREER OBJECTIVE\\nSOFTWARE ENGINEERING INTERN, 02/2023 - 07/2023\\nCodeCraft Technologies Pvt Ltd, Bengaluru\\nEXPERIENCE\\nImplemented new features into existing software systems using HTML, CSS, and JavaScript.•'),\n",
       " Document(metadata={'source': 'documents\\\\Pavankumar_Patil_Resume.pdf', 'page': 0}, page_content='Utilized version control systems like Git and GitHub to manage source code changes during development cycles.•\\nAnalyzed code and corrected errors to optimize output.•\\nCollaborated with other developers on coding projects in an Agile environment.•\\n1. WIFI Handoff using NS2 simulator\\n2. Implementation of Smart Home Automation System\\n3. HetNet Simulation in MATLAB\\n4.\\xa0Client and server communication using sockets programming of IPv4 and IPV6\\xa0\\nACADEMIC PROJECTS'),\n",
       " Document(metadata={'source': 'documents\\\\Pavankumar_Patil_Resume.pdf', 'page': 0}, page_content='ACADEMIC PROJECTS\\nSimulated seamless Wi-Fi handoff in NS2 to analyze network performance during mobile node transitions.•\\nImplemented a Smart Home Automation System integrating IoT devices, sensors, and microcontrollers for\\nautomated control of appliances.\\n•\\nSimulated Heterogeneous Networks (HetNet) in MATLAB to analyze network performance across different cell\\ntypes.\\n•\\nImplemented client-server communication using socket programming with both IPv4 and IPv6 protocols,'),\n",
       " Document(metadata={'source': 'documents\\\\Pavankumar_Patil_Resume.pdf', 'page': 0}, page_content='enabling efficient data exchange. Observed and analyzed network packets using Wireshark to ensure reliable\\ntransmission and troubleshoot communication issues.\\n•\\nSKILLS Object-Oriented Programming•\\nPython Programming•\\nC Programming•\\nCSS,HTML•\\nSQL•\\nGit•\\nGitHub•\\nDSA•\\nNetworking•\\nWireshark•\\nCisco Packet Tracer•\\nSDLC•\\nAgile Methodologies•\\nTinkercad•\\nCERTIFICATIONS Introduction to Industry 4.0 and Industrial Internet of Things, NPTEL Certification•\\nConsumer Psychology, NPTEL Certification•'),\n",
       " Document(metadata={'source': 'documents\\\\Pavankumar_Patil_Resume.pdf', 'page': 0}, page_content='Consumer Psychology, NPTEL Certification•\\nBusiness English Cambridge Certification, provided by Cambridge Business•\\nHands on course on RDBMS and SQL conducted by ramkrishna mission ashrama•\\nResponsive Web Design provided by freeCodeCamp•\\nWORKSHOPS Overview of Web GIS Technology, Organized by ISRO•\\nPlantation Drive , Organized by Green Saviors Association•\\nStudent Leadership Program, Organized by IEEE Student Branch GIT•'),\n",
       " Document(metadata={'source': 'documents\\\\Pavankumar_Patil_Resume.pdf', 'page': 0}, page_content='Network Simulation and Performance Analysis: Hands-on workshop in network protocols, performance\\nevaluation, and simulation using NS2 and Wireshark organized by RVCE\\n•'),\n",
       " Document(metadata={'source': 'documents\\\\Pavankumar_Patil_Resume.pdf', 'page': 1}, page_content=\"RV College Of Engineering, Bengaluru, Expected in 09/2025\\nMaster of Technology: Computer Network Engineering\\nKLS GOGTE INSTITUTE OF TECHNOLOGY , Belagavi, 08/2023\\nBachelor of Engineering: Electronics And Communication Engineering\\nRavindranath Tagore Pu College, Belagavi, 04/2019\\nPre-University\\nKLE'S Smt. C.B.Ranamode English Medium School, Athani, 04/2017\\nHigh School\\nEDUCATION\\n8.20 CGPA(upto 1st Sem)•\\n8.20 CGPA•\\nPCMCs (87.50%)•\\n8.6 CGPA•\\nHOBBIES Music•\\nPhotography•\\nTravelling•\\nSports•\"),\n",
       " Document(metadata={'source': 'documents\\\\Pavankumar_Patil_Resume.pdf', 'page': 1}, page_content='HOBBIES Music•\\nPhotography•\\nTravelling•\\nSports•\\nLANGUAGES Marathi:First Language\\nB2English:\\nUpper Intermediate (B2)\\nB2Hindi:\\nUpper Intermediate (B2)\\nB2Kannada:\\nUpper Intermediate (B2)')]"
      ]
     },
     "execution_count": 8,
     "metadata": {},
     "output_type": "execute_result"
    }
   ],
   "source": [
    "documents"
   ]
  },
  {
   "cell_type": "code",
   "execution_count": 11,
   "metadata": {},
   "outputs": [
    {
     "name": "stderr",
     "output_type": "stream",
     "text": [
      "d:\\pythonweb\\qachatbox\\venv\\lib\\site-packages\\huggingface_hub\\file_download.py:139: UserWarning: `huggingface_hub` cache-system uses symlinks by default to efficiently store duplicated files but your machine does not support them in C:\\Users\\tv078\\.cache\\huggingface\\hub\\models--BAAI--bge-base-en-v1.5. Caching files will still work but in a degraded version that might require more space on your disk. This warning can be disabled by setting the `HF_HUB_DISABLE_SYMLINKS_WARNING` environment variable. For more details, see https://huggingface.co/docs/huggingface_hub/how-to-cache#limitations.\n",
      "To support symlinks on Windows, you either need to activate Developer Mode or to run Python as an administrator. In order to activate developer mode, see this article: https://docs.microsoft.com/en-us/windows/apps/get-started/enable-your-device-for-development\n",
      "  warnings.warn(message)\n"
     ]
    }
   ],
   "source": [
    "# embedding technique of Huggingface\n",
    "\n",
    "embedding = HuggingFaceEmbeddings(model_name=\"BAAI/bge-base-en-v1.5\") "
   ]
  },
  {
   "cell_type": "code",
   "execution_count": 14,
   "metadata": {},
   "outputs": [
    {
     "data": {
      "text/plain": [
       "768"
      ]
     },
     "execution_count": 14,
     "metadata": {},
     "output_type": "execute_result"
    }
   ],
   "source": [
    "vector=embedding.embed_query(\"hello, how are you?\")\n",
    "len(vector)"
   ]
  },
  {
   "cell_type": "code",
   "execution_count": null,
   "metadata": {},
   "outputs": [],
   "source": [
    "from keys import piconapikey\n",
    "pc = Pinecone(api_key=piconapikey)"
   ]
  },
  {
   "cell_type": "code",
   "execution_count": 22,
   "metadata": {},
   "outputs": [],
   "source": [
    "import time\n",
    "\n",
    "index_name = \"resumevectore\"  # change if desired\n",
    "\n",
    "existing_indexes = [index_info[\"name\"] for index_info in pc.list_indexes()]\n",
    "\n",
    "if index_name not in existing_indexes:\n",
    "    pc.create_index(\n",
    "        name=index_name,\n",
    "        dimension=3072,\n",
    "        metric=\"cosine\",\n",
    "        spec=ServerlessSpec(cloud=\"aws\", region=\"us-east-1\"),\n",
    "    )\n",
    "    while not pc.describe_index(index_name).status[\"ready\"]:\n",
    "        time.sleep(1)\n",
    "\n",
    "index = pc.Index(index_name)"
   ]
  },
  {
   "cell_type": "code",
   "execution_count": 24,
   "metadata": {},
   "outputs": [
    {
     "data": {
      "text/plain": [
       "<pinecone.data.index.Index at 0x1ab8d053310>"
      ]
     },
     "execution_count": 24,
     "metadata": {},
     "output_type": "execute_result"
    }
   ],
   "source": [
    "index"
   ]
  },
  {
   "cell_type": "code",
   "execution_count": 25,
   "metadata": {},
   "outputs": [],
   "source": [
    "from langchain_pinecone import PineconeVectorStore\n",
    "\n",
    "vector_store = PineconeVectorStore(index=index, embedding=embedding)"
   ]
  },
  {
   "cell_type": "code",
   "execution_count": null,
   "metadata": {},
   "outputs": [
    {
     "data": {
      "text/plain": [
       "['fe20e324-5484-408b-8f28-eb9197460949',\n",
       " '2e75b8cc-c30e-4f68-83bf-bb2b103fd2da',\n",
       " '5a1f5bdf-70b6-4734-a7d1-6a371def4eeb',\n",
       " 'c8f3b80b-eef9-42dc-8039-6c6051470e46',\n",
       " '3cc94931-b7b2-4682-adfa-a97fe8ecc965',\n",
       " 'de9ea501-0812-409e-a196-251fcbbb3621',\n",
       " '4cff1064-2a32-4f8b-89fa-2b763bc8d979',\n",
       " '1b62a79d-d067-43fe-92ae-aaf268f28beb']"
      ]
     },
     "execution_count": 26,
     "metadata": {},
     "output_type": "execute_result"
    }
   ],
   "source": [
    "indexs=vector_store.add_documents(documents)"
   ]
  },
  {
   "cell_type": "code",
   "execution_count": 28,
   "metadata": {},
   "outputs": [],
   "source": [
    "indexs = ['fe20e324-5484-408b-8f28-eb9197460949',\n",
    " '2e75b8cc-c30e-4f68-83bf-bb2b103fd2da',\n",
    " '5a1f5bdf-70b6-4734-a7d1-6a371def4eeb',\n",
    " 'c8f3b80b-eef9-42dc-8039-6c6051470e46',\n",
    " '3cc94931-b7b2-4682-adfa-a97fe8ecc965',\n",
    " 'de9ea501-0812-409e-a196-251fcbbb3621',\n",
    " '4cff1064-2a32-4f8b-89fa-2b763bc8d979',\n",
    " '1b62a79d-d067-43fe-92ae-aaf268f28beb']"
   ]
  },
  {
   "cell_type": "code",
   "execution_count": 29,
   "metadata": {},
   "outputs": [],
   "source": [
    "def retrieve_query(query, k = 2):\n",
    "    matching_results = index.similarity_search(query, k = k)\n",
    "    return matching_results"
   ]
  },
  {
   "cell_type": "code",
   "execution_count": 30,
   "metadata": {},
   "outputs": [],
   "source": [
    "from langchain.chains.question_answering import load_qa_chain\n"
   ]
  },
  {
   "cell_type": "code",
   "execution_count": null,
   "metadata": {},
   "outputs": [],
   "source": [
    "llm = huggingface_pipeline()\n",
    "chains = load_qa_chain(llm, chain_type=\"stuff\")"
   ]
  },
  {
   "cell_type": "code",
   "execution_count": null,
   "metadata": {},
   "outputs": [],
   "source": [
    "def retrieve_answer(query):\n",
    "    doc_search = retrieve_query(query=query)\n",
    "    print(doc_search)\n",
    "    response = chains.run(input_documents= doc_search, question=query)\n",
    "    return response\n"
   ]
  },
  {
   "cell_type": "code",
   "execution_count": null,
   "metadata": {},
   "outputs": [],
   "source": [
    "our_query = \"how many questions can be make over the data\"\n",
    "answer = retrieve_answer(our_query)\n",
    "print(answer)"
   ]
  }
 ],
 "metadata": {
  "kernelspec": {
   "display_name": "Python 3",
   "language": "python",
   "name": "python3"
  },
  "language_info": {
   "codemirror_mode": {
    "name": "ipython",
    "version": 3
   },
   "file_extension": ".py",
   "mimetype": "text/x-python",
   "name": "python",
   "nbconvert_exporter": "python",
   "pygments_lexer": "ipython3",
   "version": "3.10.0"
  }
 },
 "nbformat": 4,
 "nbformat_minor": 2
}
